{
 "cells": [
  {
   "cell_type": "markdown",
   "metadata": {},
   "source": [
    "### Read and evaluate the following problem statement: \n",
    "Determine which passengers will survive on the Titantic, using all avaliable data (age, passenger class, fare, ect...).\n",
    "\n"
   ]
  },
  {
   "cell_type": "markdown",
   "metadata": {},
   "source": [
    "# Project 1\n",
    "## You may have to do some clever google-searches, slack posting, and collaboration to find answers to these questions!!! (Post in Slack, talk with eachother, ask me for help!)\n",
    "\n",
    "In this first project you will create a framework to scope out data science projects. This framework will provide you with a guide to develop a well-articulated problem statement and analysis plan that will be robust and reproducible."
   ]
  },
  {
   "cell_type": "markdown",
   "metadata": {},
   "source": [
    "#### 1. What is the outcome? (Rather morbid, I realize this)"
   ]
  },
  {
   "cell_type": "markdown",
   "metadata": {},
   "source": [
    "Answer: The outcome of this data set will determine which Titanic passengers were more likely to survive, based on various traits/characteristics (e.g. age, gender, etc.) that we know about them."
   ]
  },
  {
   "cell_type": "markdown",
   "metadata": {},
   "source": [
    "#### 2. What are the predictors/covariates? "
   ]
  },
  {
   "cell_type": "markdown",
   "metadata": {},
   "source": [
    "Answer: The predictors/covariates include:\n",
    "- Ticket class (1st, 2nd, 3rd)\n",
    "- Gender\n",
    "- Age in years\t\n",
    "- The total number of siblings/spouses the passenger had aboard the Titanic\t\n",
    "- The total number of parents & children the passenger had aboard the Titanic\t\n",
    "- The passenger fare\t\n",
    "- Port of Embarkation (Cherbourg, Queenstown, Southampton)\n",
    "\n",
    "We also know the passenger's name, ticket number, and cabin number, but those are unlikely to be predictors because they aren't related with variables such as class/port of embarkation, etc."
   ]
  },
  {
   "cell_type": "markdown",
   "metadata": {},
   "source": [
    "#### 3. What timeframe is this data relevent for?"
   ]
  },
  {
   "cell_type": "markdown",
   "metadata": {},
   "source": [
    "Answer: The timeframe for this data is April 15, 1912, the day the Titanic sank. While it can be used to possibly help us understand other shipwrecks/travel disasters, it only includes data for this singular event. "
   ]
  },
  {
   "cell_type": "markdown",
   "metadata": {},
   "source": [
    "#### 4. What is the hypothesis?"
   ]
  },
  {
   "cell_type": "markdown",
   "metadata": {},
   "source": [
    "Answer: In \"plain English\", my null hypotheses are:\n",
    "\n",
    "- Gender is unrelated to survival rate on the Titanic.\n",
    "- Age is unrelated to survival rate on the Titanic.\n",
    "- Passenger class (a proxy for socioeconomic status) is unrelated to survival rate on the Titanic.\n",
    "- Passenger fare (a proxy for SES) is unrelated to survival rate on the Titanic. \n",
    "- Port of embarkation is unrelated to survival rate on the Titanic.\n",
    "- The number of siblings/spouses a passenger had aboard the Titanic is unrelated to survival rate. \n",
    "- The number of parents/children a paassenger had aboard the Titanic is unrelated to survival rate. "
   ]
  },
  {
   "cell_type": "markdown",
   "metadata": {},
   "source": [
    "## Let's get started with our dataset"
   ]
  },
  {
   "cell_type": "code",
   "execution_count": 44,
   "metadata": {
    "collapsed": true
   },
   "outputs": [],
   "source": [
    "# Lets look at our data so we can create a data dictionary\n",
    "\n",
    "import pandas as pd\n",
    "import numpy as np\n",
    "\n",
    "file_path = '/Users/thshih/ds_class/data_sets/'\n",
    "\n",
    "titanic_df = pd.read_csv(file_path + \"titanic_train.csv\")\n",
    "test_df = pd.read_csv(file_path + \"titanic_test.csv\")"
   ]
  },
  {
   "cell_type": "code",
   "execution_count": 45,
   "metadata": {},
   "outputs": [
    {
     "data": {
      "text/html": [
       "<div>\n",
       "<style>\n",
       "    .dataframe thead tr:only-child th {\n",
       "        text-align: right;\n",
       "    }\n",
       "\n",
       "    .dataframe thead th {\n",
       "        text-align: left;\n",
       "    }\n",
       "\n",
       "    .dataframe tbody tr th {\n",
       "        vertical-align: top;\n",
       "    }\n",
       "</style>\n",
       "<table border=\"1\" class=\"dataframe\">\n",
       "  <thead>\n",
       "    <tr style=\"text-align: right;\">\n",
       "      <th></th>\n",
       "      <th>PassengerId</th>\n",
       "      <th>Survived</th>\n",
       "      <th>Pclass</th>\n",
       "      <th>Name</th>\n",
       "      <th>Sex</th>\n",
       "      <th>Age</th>\n",
       "      <th>SibSp</th>\n",
       "      <th>Parch</th>\n",
       "      <th>Ticket</th>\n",
       "      <th>Fare</th>\n",
       "      <th>Cabin</th>\n",
       "      <th>Embarked</th>\n",
       "    </tr>\n",
       "  </thead>\n",
       "  <tbody>\n",
       "    <tr>\n",
       "      <th>0</th>\n",
       "      <td>1</td>\n",
       "      <td>0</td>\n",
       "      <td>3</td>\n",
       "      <td>Braund, Mr. Owen Harris</td>\n",
       "      <td>male</td>\n",
       "      <td>22.0</td>\n",
       "      <td>1</td>\n",
       "      <td>0</td>\n",
       "      <td>A/5 21171</td>\n",
       "      <td>7.2500</td>\n",
       "      <td>NaN</td>\n",
       "      <td>S</td>\n",
       "    </tr>\n",
       "    <tr>\n",
       "      <th>1</th>\n",
       "      <td>2</td>\n",
       "      <td>1</td>\n",
       "      <td>1</td>\n",
       "      <td>Cumings, Mrs. John Bradley (Florence Briggs Th...</td>\n",
       "      <td>female</td>\n",
       "      <td>38.0</td>\n",
       "      <td>1</td>\n",
       "      <td>0</td>\n",
       "      <td>PC 17599</td>\n",
       "      <td>71.2833</td>\n",
       "      <td>C85</td>\n",
       "      <td>C</td>\n",
       "    </tr>\n",
       "    <tr>\n",
       "      <th>2</th>\n",
       "      <td>3</td>\n",
       "      <td>1</td>\n",
       "      <td>3</td>\n",
       "      <td>Heikkinen, Miss. Laina</td>\n",
       "      <td>female</td>\n",
       "      <td>26.0</td>\n",
       "      <td>0</td>\n",
       "      <td>0</td>\n",
       "      <td>STON/O2. 3101282</td>\n",
       "      <td>7.9250</td>\n",
       "      <td>NaN</td>\n",
       "      <td>S</td>\n",
       "    </tr>\n",
       "    <tr>\n",
       "      <th>3</th>\n",
       "      <td>4</td>\n",
       "      <td>1</td>\n",
       "      <td>1</td>\n",
       "      <td>Futrelle, Mrs. Jacques Heath (Lily May Peel)</td>\n",
       "      <td>female</td>\n",
       "      <td>35.0</td>\n",
       "      <td>1</td>\n",
       "      <td>0</td>\n",
       "      <td>113803</td>\n",
       "      <td>53.1000</td>\n",
       "      <td>C123</td>\n",
       "      <td>S</td>\n",
       "    </tr>\n",
       "    <tr>\n",
       "      <th>4</th>\n",
       "      <td>5</td>\n",
       "      <td>0</td>\n",
       "      <td>3</td>\n",
       "      <td>Allen, Mr. William Henry</td>\n",
       "      <td>male</td>\n",
       "      <td>35.0</td>\n",
       "      <td>0</td>\n",
       "      <td>0</td>\n",
       "      <td>373450</td>\n",
       "      <td>8.0500</td>\n",
       "      <td>NaN</td>\n",
       "      <td>S</td>\n",
       "    </tr>\n",
       "  </tbody>\n",
       "</table>\n",
       "</div>"
      ],
      "text/plain": [
       "   PassengerId  Survived  Pclass  \\\n",
       "0            1         0       3   \n",
       "1            2         1       1   \n",
       "2            3         1       3   \n",
       "3            4         1       1   \n",
       "4            5         0       3   \n",
       "\n",
       "                                                Name     Sex   Age  SibSp  \\\n",
       "0                            Braund, Mr. Owen Harris    male  22.0      1   \n",
       "1  Cumings, Mrs. John Bradley (Florence Briggs Th...  female  38.0      1   \n",
       "2                             Heikkinen, Miss. Laina  female  26.0      0   \n",
       "3       Futrelle, Mrs. Jacques Heath (Lily May Peel)  female  35.0      1   \n",
       "4                           Allen, Mr. William Henry    male  35.0      0   \n",
       "\n",
       "   Parch            Ticket     Fare Cabin Embarked  \n",
       "0      0         A/5 21171   7.2500   NaN        S  \n",
       "1      0          PC 17599  71.2833   C85        C  \n",
       "2      0  STON/O2. 3101282   7.9250   NaN        S  \n",
       "3      0            113803  53.1000  C123        S  \n",
       "4      0            373450   8.0500   NaN        S  "
      ]
     },
     "execution_count": 45,
     "metadata": {},
     "output_type": "execute_result"
    }
   ],
   "source": [
    "titanic_df.head()"
   ]
  },
  {
   "cell_type": "code",
   "execution_count": 46,
   "metadata": {},
   "outputs": [
    {
     "data": {
      "text/html": [
       "<div>\n",
       "<style>\n",
       "    .dataframe thead tr:only-child th {\n",
       "        text-align: right;\n",
       "    }\n",
       "\n",
       "    .dataframe thead th {\n",
       "        text-align: left;\n",
       "    }\n",
       "\n",
       "    .dataframe tbody tr th {\n",
       "        vertical-align: top;\n",
       "    }\n",
       "</style>\n",
       "<table border=\"1\" class=\"dataframe\">\n",
       "  <thead>\n",
       "    <tr style=\"text-align: right;\">\n",
       "      <th></th>\n",
       "      <th>PassengerId</th>\n",
       "      <th>Pclass</th>\n",
       "      <th>Name</th>\n",
       "      <th>Sex</th>\n",
       "      <th>Age</th>\n",
       "      <th>SibSp</th>\n",
       "      <th>Parch</th>\n",
       "      <th>Ticket</th>\n",
       "      <th>Fare</th>\n",
       "      <th>Cabin</th>\n",
       "      <th>Embarked</th>\n",
       "    </tr>\n",
       "  </thead>\n",
       "  <tbody>\n",
       "    <tr>\n",
       "      <th>0</th>\n",
       "      <td>892</td>\n",
       "      <td>3</td>\n",
       "      <td>Kelly, Mr. James</td>\n",
       "      <td>male</td>\n",
       "      <td>34.5</td>\n",
       "      <td>0</td>\n",
       "      <td>0</td>\n",
       "      <td>330911</td>\n",
       "      <td>7.8292</td>\n",
       "      <td>NaN</td>\n",
       "      <td>Q</td>\n",
       "    </tr>\n",
       "    <tr>\n",
       "      <th>1</th>\n",
       "      <td>893</td>\n",
       "      <td>3</td>\n",
       "      <td>Wilkes, Mrs. James (Ellen Needs)</td>\n",
       "      <td>female</td>\n",
       "      <td>47.0</td>\n",
       "      <td>1</td>\n",
       "      <td>0</td>\n",
       "      <td>363272</td>\n",
       "      <td>7.0000</td>\n",
       "      <td>NaN</td>\n",
       "      <td>S</td>\n",
       "    </tr>\n",
       "    <tr>\n",
       "      <th>2</th>\n",
       "      <td>894</td>\n",
       "      <td>2</td>\n",
       "      <td>Myles, Mr. Thomas Francis</td>\n",
       "      <td>male</td>\n",
       "      <td>62.0</td>\n",
       "      <td>0</td>\n",
       "      <td>0</td>\n",
       "      <td>240276</td>\n",
       "      <td>9.6875</td>\n",
       "      <td>NaN</td>\n",
       "      <td>Q</td>\n",
       "    </tr>\n",
       "    <tr>\n",
       "      <th>3</th>\n",
       "      <td>895</td>\n",
       "      <td>3</td>\n",
       "      <td>Wirz, Mr. Albert</td>\n",
       "      <td>male</td>\n",
       "      <td>27.0</td>\n",
       "      <td>0</td>\n",
       "      <td>0</td>\n",
       "      <td>315154</td>\n",
       "      <td>8.6625</td>\n",
       "      <td>NaN</td>\n",
       "      <td>S</td>\n",
       "    </tr>\n",
       "    <tr>\n",
       "      <th>4</th>\n",
       "      <td>896</td>\n",
       "      <td>3</td>\n",
       "      <td>Hirvonen, Mrs. Alexander (Helga E Lindqvist)</td>\n",
       "      <td>female</td>\n",
       "      <td>22.0</td>\n",
       "      <td>1</td>\n",
       "      <td>1</td>\n",
       "      <td>3101298</td>\n",
       "      <td>12.2875</td>\n",
       "      <td>NaN</td>\n",
       "      <td>S</td>\n",
       "    </tr>\n",
       "  </tbody>\n",
       "</table>\n",
       "</div>"
      ],
      "text/plain": [
       "   PassengerId  Pclass                                          Name     Sex  \\\n",
       "0          892       3                              Kelly, Mr. James    male   \n",
       "1          893       3              Wilkes, Mrs. James (Ellen Needs)  female   \n",
       "2          894       2                     Myles, Mr. Thomas Francis    male   \n",
       "3          895       3                              Wirz, Mr. Albert    male   \n",
       "4          896       3  Hirvonen, Mrs. Alexander (Helga E Lindqvist)  female   \n",
       "\n",
       "    Age  SibSp  Parch   Ticket     Fare Cabin Embarked  \n",
       "0  34.5      0      0   330911   7.8292   NaN        Q  \n",
       "1  47.0      1      0   363272   7.0000   NaN        S  \n",
       "2  62.0      0      0   240276   9.6875   NaN        Q  \n",
       "3  27.0      0      0   315154   8.6625   NaN        S  \n",
       "4  22.0      1      1  3101298  12.2875   NaN        S  "
      ]
     },
     "execution_count": 46,
     "metadata": {},
     "output_type": "execute_result"
    }
   ],
   "source": [
    "test_df.head()"
   ]
  },
  {
   "cell_type": "markdown",
   "metadata": {},
   "source": [
    "#### 1. Create a data dictionary "
   ]
  },
  {
   "cell_type": "markdown",
   "metadata": {},
   "source": [
    "We would like to explore the association between X and Y "
   ]
  },
  {
   "cell_type": "markdown",
   "metadata": {},
   "source": [
    "Answer: \n",
    "\n",
    "Outcome/Covariate | Variable | Description | Type of Variable\n",
    "--- | ---| ---| ---\n",
    "outcome | survival | 0 = No, 1 = Yes | categorial/discrete\n",
    "neither | passengerid | id associated w/ passenger | categorial/discrete\n",
    "covariate | pclass (Ticket class)| \t1 = 1st class, 2 = 2nd class, 3 = 3rd class | categorial/discrete \n",
    "covariate | sex\t| male/female | categorial/discrete (though the \"gender studies\" voice in me is saying \"gender is a spectrum and there aren't just 2 binary genders :)\". But, given the existing data set, categorical/discrete)\n",
    "covariate | Age\t| Age in years | categorial/discrete (but only because it's in whole/half years - otherwise, it'd be continuous)\n",
    "covariate | sibsp |\t# of siblings / spouses on the Titanic | categorial/discrete\n",
    "covariate | parch |\t# of parents / children on the Titanic | categorial/discrete\n",
    "neither | ticket | Ticket number | categorial/discrete\n",
    "covariate | fare | Passenger fare | This one is tricky. In theory, there's a non countable, infinite number of values between 0.01 [units of money] and 0.02 [units of money]. In reality, because of how we conceputalize money/currency, there __is__ a discrete, countable number of values between each unit of money (e.g. if you think of the smallest unit of money, say a penny, we don't think of money in terms of fractions of the smallest unit of money). __But, but also__, money has no \"limit\" in terms of value we can count (e.g. in theory money can go on into infinity). Therefore, it's not truly \"limited\" in terms of its countable values, which is a key part of discrete/categorical variables. So, I'm going to say continuous (but continue to internally debate with myself).\n",
    "neither | cabin |\tCabin number | categorial/discrete \t\n",
    "covariate | embarked | Port of Embarkation | categorial/discrete\n"
   ]
  },
  {
   "cell_type": "markdown",
   "metadata": {},
   "source": [
    "#### 2. What is the outcome?"
   ]
  },
  {
   "cell_type": "markdown",
   "metadata": {},
   "source": [
    "Answer: The outcome is whether or not a passenger survives. We can look at the outcome in tandem with the different variables we have to understand how certain variables impacted/influenced survival rate on the Titanic. "
   ]
  },
  {
   "cell_type": "markdown",
   "metadata": {},
   "source": [
    "#### 3. What are the predictors/covariates? "
   ]
  },
  {
   "cell_type": "markdown",
   "metadata": {},
   "source": [
    "Answer: Based on the above data, the predictors/covariates include:\n",
    "- Ticket class (1st, 2nd, 3rd)\n",
    "- Gender\n",
    "- Age in years\t\n",
    "- The total number of siblings/spouses the passenger had aboard the Titanic\t\n",
    "- The total number of parents & children the passenger had aboard the Titanic\t\n",
    "- The passenger fare\t\n",
    "- Port of Embarkation (Cherbourg, Queenstown, Southampton)\n",
    "\n",
    "We also know the passenger's name, ticket number, and cabin number, but those are unlikely to be predictors because they aren't related with variables such as class/port of embarkation, etc."
   ]
  },
  {
   "cell_type": "markdown",
   "metadata": {},
   "source": [
    "#### 4. What timeframe is this data relevent for?"
   ]
  },
  {
   "cell_type": "markdown",
   "metadata": {},
   "source": [
    "Answer: The timeframe for this data is April 15, 1912, the day the Titanic sank. While it can be used to possibly help us understand other shipwrecks/travel disasters, it only includes data for this singular event. "
   ]
  },
  {
   "cell_type": "markdown",
   "metadata": {},
   "source": [
    "#### 4. What is the hypothesis?"
   ]
  },
  {
   "cell_type": "markdown",
   "metadata": {},
   "source": [
    "Answer: In \"plain English\", my null hypotheses are:\n",
    "\n",
    "- Gender is unrelated to survival rate on the Titanic.\n",
    "- Age is unrelated to survival rate on the Titanic.\n",
    "- Passenger class (a proxy for socioeconomic status) is unrelated to survival rate on the Titanic.\n",
    "- Passenger fare (a proxy for SES) is unrelated to survival rate on the Titanic. \n",
    "- Port of embarkation is unrelated to survival rate on the Titanic.\n",
    "- The number of siblings/spouses a passenger had aboard the Titanic is unrelated to survival rate. \n",
    "- The number of parents/children a paassenger had aboard the Titanic is unrelated to survival rate. "
   ]
  },
  {
   "cell_type": "markdown",
   "metadata": {},
   "source": [
    "    Using the above information, write a well-formed problem statement. \n"
   ]
  },
  {
   "cell_type": "markdown",
   "metadata": {},
   "source": [
    "## Problem Statement"
   ]
  },
  {
   "cell_type": "markdown",
   "metadata": {},
   "source": [
    "### Exploratory Analysis Plan"
   ]
  },
  {
   "cell_type": "markdown",
   "metadata": {},
   "source": [
    "Using the lab from a class as a guide, create an exploratory analysis plan. "
   ]
  },
  {
   "cell_type": "markdown",
   "metadata": {},
   "source": [
    "#### 1. What are the goals of the exploratory analysis? "
   ]
  },
  {
   "cell_type": "markdown",
   "metadata": {
    "collapsed": true
   },
   "source": [
    "Answer: The goals of this exploratory analysis are:\n",
    "- Explore what a \"typical\" passenger aboard the Titanic was like (e.g. what was the distribution of ages? How many men / women? What were the ranges of fares, etc.)\n",
    "- Take a deeper dive, and look at what a \"typical\" passenger who survived vs. didn't survive was like (e.g. was there a higher prevalence of men vs. women who survived? How did age influence survival (both very young & very old)? What were survival rates like for different fares / passenger classes?\n",
    "- Look at cross-sections of data. E.g. what do survival rates look like by age & gender? By gender & class? We want to be careful not to look at all the variables, or to think about \"confounding\" variables, but it's very possible that a variety of factors \"tell the story\" of who was most likely to survive. \n",
    "- Build models that will help us test our above hypotheses about what variables do/don't have an impact on survival rate. "
   ]
  },
  {
   "cell_type": "markdown",
   "metadata": {},
   "source": [
    "#### 2a. What are the assumptions of the distribution of data? "
   ]
  },
  {
   "cell_type": "markdown",
   "metadata": {},
   "source": [
    "Answer: Our assumption is that the data is \"normally\" distributed, which is especially important because we will be using the data set to calculate:\n",
    "- averages / \"measures of center\"\n",
    "- standard deviation\n",
    "- confidence intervals\n",
    "- interquartile range / \"outliers\"\n",
    "\n",
    "In addition, since we are comparing the characteristics of people who did/did not survive, and we will be calculating metrics such as \"measures of center\" and outliers for survived & not survived populations, it also assumes that the populations of \"survived\" and \"not survived\" are also \"normally\" distributed."
   ]
  },
  {
   "cell_type": "markdown",
   "metadata": {},
   "source": [
    "#### 2b. How will determine the distribution of your data? "
   ]
  },
  {
   "cell_type": "markdown",
   "metadata": {
    "collapsed": true
   },
   "source": [
    "Answer: There are a couple of ways I can determine the distribution of my data:\n",
    "\n",
    "1) Use the \".describe()\" function to get the mean, median, counts, and IQR values of each of the covariates I'm looking to analyze\n",
    "\n",
    "2) Use histogram plots to get a visual representation of how distributed the data is "
   ]
  },
  {
   "cell_type": "code",
   "execution_count": 47,
   "metadata": {},
   "outputs": [
    {
     "data": {
      "text/html": [
       "<div>\n",
       "<style>\n",
       "    .dataframe thead tr:only-child th {\n",
       "        text-align: right;\n",
       "    }\n",
       "\n",
       "    .dataframe thead th {\n",
       "        text-align: left;\n",
       "    }\n",
       "\n",
       "    .dataframe tbody tr th {\n",
       "        vertical-align: top;\n",
       "    }\n",
       "</style>\n",
       "<table border=\"1\" class=\"dataframe\">\n",
       "  <thead>\n",
       "    <tr style=\"text-align: right;\">\n",
       "      <th></th>\n",
       "      <th>PassengerId</th>\n",
       "      <th>Survived</th>\n",
       "      <th>Pclass</th>\n",
       "      <th>Age</th>\n",
       "      <th>SibSp</th>\n",
       "      <th>Parch</th>\n",
       "      <th>Fare</th>\n",
       "    </tr>\n",
       "  </thead>\n",
       "  <tbody>\n",
       "    <tr>\n",
       "      <th>count</th>\n",
       "      <td>891.000000</td>\n",
       "      <td>891.000000</td>\n",
       "      <td>891.000000</td>\n",
       "      <td>714.000000</td>\n",
       "      <td>891.000000</td>\n",
       "      <td>891.000000</td>\n",
       "      <td>891.000000</td>\n",
       "    </tr>\n",
       "    <tr>\n",
       "      <th>mean</th>\n",
       "      <td>446.000000</td>\n",
       "      <td>0.383838</td>\n",
       "      <td>2.308642</td>\n",
       "      <td>29.699118</td>\n",
       "      <td>0.523008</td>\n",
       "      <td>0.381594</td>\n",
       "      <td>32.204208</td>\n",
       "    </tr>\n",
       "    <tr>\n",
       "      <th>std</th>\n",
       "      <td>257.353842</td>\n",
       "      <td>0.486592</td>\n",
       "      <td>0.836071</td>\n",
       "      <td>14.526497</td>\n",
       "      <td>1.102743</td>\n",
       "      <td>0.806057</td>\n",
       "      <td>49.693429</td>\n",
       "    </tr>\n",
       "    <tr>\n",
       "      <th>min</th>\n",
       "      <td>1.000000</td>\n",
       "      <td>0.000000</td>\n",
       "      <td>1.000000</td>\n",
       "      <td>0.420000</td>\n",
       "      <td>0.000000</td>\n",
       "      <td>0.000000</td>\n",
       "      <td>0.000000</td>\n",
       "    </tr>\n",
       "    <tr>\n",
       "      <th>25%</th>\n",
       "      <td>223.500000</td>\n",
       "      <td>0.000000</td>\n",
       "      <td>2.000000</td>\n",
       "      <td>20.125000</td>\n",
       "      <td>0.000000</td>\n",
       "      <td>0.000000</td>\n",
       "      <td>7.910400</td>\n",
       "    </tr>\n",
       "    <tr>\n",
       "      <th>50%</th>\n",
       "      <td>446.000000</td>\n",
       "      <td>0.000000</td>\n",
       "      <td>3.000000</td>\n",
       "      <td>28.000000</td>\n",
       "      <td>0.000000</td>\n",
       "      <td>0.000000</td>\n",
       "      <td>14.454200</td>\n",
       "    </tr>\n",
       "    <tr>\n",
       "      <th>75%</th>\n",
       "      <td>668.500000</td>\n",
       "      <td>1.000000</td>\n",
       "      <td>3.000000</td>\n",
       "      <td>38.000000</td>\n",
       "      <td>1.000000</td>\n",
       "      <td>0.000000</td>\n",
       "      <td>31.000000</td>\n",
       "    </tr>\n",
       "    <tr>\n",
       "      <th>max</th>\n",
       "      <td>891.000000</td>\n",
       "      <td>1.000000</td>\n",
       "      <td>3.000000</td>\n",
       "      <td>80.000000</td>\n",
       "      <td>8.000000</td>\n",
       "      <td>6.000000</td>\n",
       "      <td>512.329200</td>\n",
       "    </tr>\n",
       "  </tbody>\n",
       "</table>\n",
       "</div>"
      ],
      "text/plain": [
       "       PassengerId    Survived      Pclass         Age       SibSp  \\\n",
       "count   891.000000  891.000000  891.000000  714.000000  891.000000   \n",
       "mean    446.000000    0.383838    2.308642   29.699118    0.523008   \n",
       "std     257.353842    0.486592    0.836071   14.526497    1.102743   \n",
       "min       1.000000    0.000000    1.000000    0.420000    0.000000   \n",
       "25%     223.500000    0.000000    2.000000   20.125000    0.000000   \n",
       "50%     446.000000    0.000000    3.000000   28.000000    0.000000   \n",
       "75%     668.500000    1.000000    3.000000   38.000000    1.000000   \n",
       "max     891.000000    1.000000    3.000000   80.000000    8.000000   \n",
       "\n",
       "            Parch        Fare  \n",
       "count  891.000000  891.000000  \n",
       "mean     0.381594   32.204208  \n",
       "std      0.806057   49.693429  \n",
       "min      0.000000    0.000000  \n",
       "25%      0.000000    7.910400  \n",
       "50%      0.000000   14.454200  \n",
       "75%      0.000000   31.000000  \n",
       "max      6.000000  512.329200  "
      ]
     },
     "execution_count": 47,
     "metadata": {},
     "output_type": "execute_result"
    }
   ],
   "source": [
    "# Use the describe function to get a \"snapshot\" view of distribution for key variables\n",
    "\n",
    "titanic_df.describe()"
   ]
  },
  {
   "cell_type": "code",
   "execution_count": 50,
   "metadata": {},
   "outputs": [],
   "source": [
    "import seaborn as sns\n",
    "import matplotlib.pyplot as plt\n",
    "sns.set_style('whitegrid')\n",
    "%matplotlib inline"
   ]
  },
  {
   "cell_type": "code",
   "execution_count": 60,
   "metadata": {},
   "outputs": [
    {
     "data": {
      "text/html": [
       "<div>\n",
       "<style>\n",
       "    .dataframe thead tr:only-child th {\n",
       "        text-align: right;\n",
       "    }\n",
       "\n",
       "    .dataframe thead th {\n",
       "        text-align: left;\n",
       "    }\n",
       "\n",
       "    .dataframe tbody tr th {\n",
       "        vertical-align: top;\n",
       "    }\n",
       "</style>\n",
       "<table border=\"1\" class=\"dataframe\">\n",
       "  <thead>\n",
       "    <tr style=\"text-align: right;\">\n",
       "      <th></th>\n",
       "      <th>PassengerId</th>\n",
       "      <th>Survived</th>\n",
       "      <th>Pclass</th>\n",
       "      <th>Name</th>\n",
       "      <th>Sex</th>\n",
       "      <th>Age</th>\n",
       "      <th>SibSp</th>\n",
       "      <th>Parch</th>\n",
       "      <th>Ticket</th>\n",
       "      <th>Fare</th>\n",
       "      <th>Cabin</th>\n",
       "    </tr>\n",
       "    <tr>\n",
       "      <th>Embarked</th>\n",
       "      <th></th>\n",
       "      <th></th>\n",
       "      <th></th>\n",
       "      <th></th>\n",
       "      <th></th>\n",
       "      <th></th>\n",
       "      <th></th>\n",
       "      <th></th>\n",
       "      <th></th>\n",
       "      <th></th>\n",
       "      <th></th>\n",
       "    </tr>\n",
       "  </thead>\n",
       "  <tbody>\n",
       "    <tr>\n",
       "      <th>C</th>\n",
       "      <td>168</td>\n",
       "      <td>168</td>\n",
       "      <td>168</td>\n",
       "      <td>168</td>\n",
       "      <td>168</td>\n",
       "      <td>130</td>\n",
       "      <td>168</td>\n",
       "      <td>168</td>\n",
       "      <td>168</td>\n",
       "      <td>168</td>\n",
       "      <td>69</td>\n",
       "    </tr>\n",
       "    <tr>\n",
       "      <th>Q</th>\n",
       "      <td>77</td>\n",
       "      <td>77</td>\n",
       "      <td>77</td>\n",
       "      <td>77</td>\n",
       "      <td>77</td>\n",
       "      <td>28</td>\n",
       "      <td>77</td>\n",
       "      <td>77</td>\n",
       "      <td>77</td>\n",
       "      <td>77</td>\n",
       "      <td>4</td>\n",
       "    </tr>\n",
       "    <tr>\n",
       "      <th>S</th>\n",
       "      <td>644</td>\n",
       "      <td>644</td>\n",
       "      <td>644</td>\n",
       "      <td>644</td>\n",
       "      <td>644</td>\n",
       "      <td>554</td>\n",
       "      <td>644</td>\n",
       "      <td>644</td>\n",
       "      <td>644</td>\n",
       "      <td>644</td>\n",
       "      <td>129</td>\n",
       "    </tr>\n",
       "  </tbody>\n",
       "</table>\n",
       "</div>"
      ],
      "text/plain": [
       "          PassengerId  Survived  Pclass  Name  Sex  Age  SibSp  Parch  Ticket  \\\n",
       "Embarked                                                                        \n",
       "C                 168       168     168   168  168  130    168    168     168   \n",
       "Q                  77        77      77    77   77   28     77     77      77   \n",
       "S                 644       644     644   644  644  554    644    644     644   \n",
       "\n",
       "          Fare  Cabin  \n",
       "Embarked               \n",
       "C          168     69  \n",
       "Q           77      4  \n",
       "S          644    129  "
      ]
     },
     "execution_count": 60,
     "metadata": {},
     "output_type": "execute_result"
    }
   ],
   "source": [
    "# For values that are null, replace them with the median and/or the most common values!\n",
    "# The above describe tells us \"median\" values - but let's use the below to find out the most \"common\" port of Embarkation\n",
    "\n",
    "titanic_df.groupby(['Embarked']).count()"
   ]
  },
  {
   "cell_type": "code",
   "execution_count": 62,
   "metadata": {},
   "outputs": [],
   "source": [
    "titanic_df[\"Embarked\"] = titanic_df[\"Embarked\"].fillna(\"S\") # Replace all null Embarked with S, the most common value\n",
    "titanic_df[\"Fare\"].fillna(test_df[\"Fare\"].median(), inplace=True) #Replace null Fare values with median\n",
    "titanic_df[\"Age\"].fillna(test_df[\"Age\"].median(), inplace=True) #Replace null Age values with median"
   ]
  },
  {
   "cell_type": "code",
   "execution_count": 63,
   "metadata": {},
   "outputs": [
    {
     "data": {
      "text/plain": [
       "<seaborn.axisgrid.FacetGrid at 0x115fea890>"
      ]
     },
     "execution_count": 63,
     "metadata": {},
     "output_type": "execute_result"
    },
    {
     "data": {
      "image/png": "[encoded data removed]",
      "text/plain": [
       "<matplotlib.figure.Figure at 0x1169debd0>"
      ]
     },
     "metadata": {},
     "output_type": "display_data"
    },
    {
     "data": {
      "image/png": "[encoded data removed]",
      "text/plain": [
       "<matplotlib.figure.Figure at 0x1158b2a10>"
      ]
     },
     "metadata": {},
     "output_type": "display_data"
    },
    {
     "data": {
      "image/png": "[encoded data removed]",
      "text/plain": [
       "<matplotlib.figure.Figure at 0x116de0550>"
      ]
     },
     "metadata": {},
     "output_type": "display_data"
    },
    {
     "data": {
      "image/png": "[encoded data removed]",
      "text/plain": [
       "<matplotlib.figure.Figure at 0x116683650>"
      ]
     },
     "metadata": {},
     "output_type": "display_data"
    },
    {
     "data": {
      "image/png": "[encoded data removed]",
      "text/plain": [
       "<matplotlib.figure.Figure at 0x111a63990>"
      ]
     },
     "metadata": {},
     "output_type": "display_data"
    }
   ],
   "source": [
    "# Use plotting to look at distributions of covariates based on passengers that survived/didn't survive\n",
    "import seaborn as sns\n",
    "import matplotlib.pyplot as plt\n",
    "sns.set_style('whitegrid')\n",
    "%matplotlib inline\n",
    "\n",
    "pclass = sns.FacetGrid(titanic_df, col='Survived')\n",
    "pclass.map(plt.hist, 'Pclass')\n",
    "\n",
    "age = sns.FacetGrid(titanic_df, col='Survived')\n",
    "age.map(plt.hist, 'Age', bins=30)\n",
    "\n",
    "sibsp = sns.FacetGrid(titanic_df, col='Survived')\n",
    "sibsp.map(plt.hist, 'SibSp')\n",
    "\n",
    "parch = sns.FacetGrid(titanic_df, col='Survived')\n",
    "parch.map(plt.hist, 'Parch')\n",
    "\n",
    "fare = sns.FacetGrid(titanic_df, col='Survived')\n",
    "fare.map(plt.hist, 'Fare', bins=10)"
   ]
  },
  {
   "cell_type": "markdown",
   "metadata": {},
   "source": [
    "#### 3a. How might outliers impact your analysis? "
   ]
  },
  {
   "cell_type": "markdown",
   "metadata": {
    "collapsed": true
   },
   "source": [
    "Answer: Outliers might positively or negatively skew my data, so that the mean value is either much higher or much lower than my median value. If I use the average as my \"measure of center\", this could cause me to think that a covariate, such as the age or fare, is actually might higher/lower than the median/middle value is, which could cause me to falsely represent and conclude which age/fare/family size, etc. was \"most likely\" to survive the Titanic sinking.\n",
    "\n",
    "For example, based on the the above \"describe\" and \"histogram\", we can see that \"max\" fare is substantially higher than the median and the upper bound of the IQR. We can also see in the histogram that there is a very long \"tail\" to the right in terms of fares, while the concentration of fares appears to be < ~40. Therefore, the \"mean\" fare price (32.204208) is more than 2x the \"median\" fare price (14.454200). "
   ]
  },
  {
   "cell_type": "markdown",
   "metadata": {},
   "source": [
    "#### 3b. How will you test for outliers? "
   ]
  },
  {
   "cell_type": "markdown",
   "metadata": {},
   "source": [
    "Answer: There are 2 ways I can test for outliers:\n",
    "\n",
    "1) Finding the IQR, and then adding/subtracting 1.5x the IQR range to the upper & lower bounds of the IQR\n",
    "\n",
    "2) Find the \"standard deviation\", and find values +/- 3 standard deviations from the mean.\n",
    "\n",
    "See below for my 2 methods! I'm going to find outliers for \"Fare\"\n"
   ]
  },
  {
   "cell_type": "code",
   "execution_count": 64,
   "metadata": {},
   "outputs": [
    {
     "data": {
      "text/html": [
       "<div>\n",
       "<style>\n",
       "    .dataframe thead tr:only-child th {\n",
       "        text-align: right;\n",
       "    }\n",
       "\n",
       "    .dataframe thead th {\n",
       "        text-align: left;\n",
       "    }\n",
       "\n",
       "    .dataframe tbody tr th {\n",
       "        vertical-align: top;\n",
       "    }\n",
       "</style>\n",
       "<table border=\"1\" class=\"dataframe\">\n",
       "  <thead>\n",
       "    <tr style=\"text-align: right;\">\n",
       "      <th></th>\n",
       "      <th>PassengerId</th>\n",
       "      <th>Survived</th>\n",
       "      <th>Pclass</th>\n",
       "      <th>Age</th>\n",
       "      <th>SibSp</th>\n",
       "      <th>Parch</th>\n",
       "      <th>Fare</th>\n",
       "    </tr>\n",
       "  </thead>\n",
       "  <tbody>\n",
       "    <tr>\n",
       "      <th>count</th>\n",
       "      <td>891.000000</td>\n",
       "      <td>891.000000</td>\n",
       "      <td>891.000000</td>\n",
       "      <td>891.000000</td>\n",
       "      <td>891.000000</td>\n",
       "      <td>891.000000</td>\n",
       "      <td>891.000000</td>\n",
       "    </tr>\n",
       "    <tr>\n",
       "      <th>mean</th>\n",
       "      <td>446.000000</td>\n",
       "      <td>0.383838</td>\n",
       "      <td>2.308642</td>\n",
       "      <td>29.162929</td>\n",
       "      <td>0.523008</td>\n",
       "      <td>0.381594</td>\n",
       "      <td>32.204208</td>\n",
       "    </tr>\n",
       "    <tr>\n",
       "      <th>std</th>\n",
       "      <td>257.353842</td>\n",
       "      <td>0.486592</td>\n",
       "      <td>0.836071</td>\n",
       "      <td>13.046587</td>\n",
       "      <td>1.102743</td>\n",
       "      <td>0.806057</td>\n",
       "      <td>49.693429</td>\n",
       "    </tr>\n",
       "    <tr>\n",
       "      <th>min</th>\n",
       "      <td>1.000000</td>\n",
       "      <td>0.000000</td>\n",
       "      <td>1.000000</td>\n",
       "      <td>0.420000</td>\n",
       "      <td>0.000000</td>\n",
       "      <td>0.000000</td>\n",
       "      <td>0.000000</td>\n",
       "    </tr>\n",
       "    <tr>\n",
       "      <th>25%</th>\n",
       "      <td>223.500000</td>\n",
       "      <td>0.000000</td>\n",
       "      <td>2.000000</td>\n",
       "      <td>22.000000</td>\n",
       "      <td>0.000000</td>\n",
       "      <td>0.000000</td>\n",
       "      <td>7.910400</td>\n",
       "    </tr>\n",
       "    <tr>\n",
       "      <th>50%</th>\n",
       "      <td>446.000000</td>\n",
       "      <td>0.000000</td>\n",
       "      <td>3.000000</td>\n",
       "      <td>27.000000</td>\n",
       "      <td>0.000000</td>\n",
       "      <td>0.000000</td>\n",
       "      <td>14.454200</td>\n",
       "    </tr>\n",
       "    <tr>\n",
       "      <th>75%</th>\n",
       "      <td>668.500000</td>\n",
       "      <td>1.000000</td>\n",
       "      <td>3.000000</td>\n",
       "      <td>35.000000</td>\n",
       "      <td>1.000000</td>\n",
       "      <td>0.000000</td>\n",
       "      <td>31.000000</td>\n",
       "    </tr>\n",
       "    <tr>\n",
       "      <th>max</th>\n",
       "      <td>891.000000</td>\n",
       "      <td>1.000000</td>\n",
       "      <td>3.000000</td>\n",
       "      <td>80.000000</td>\n",
       "      <td>8.000000</td>\n",
       "      <td>6.000000</td>\n",
       "      <td>512.329200</td>\n",
       "    </tr>\n",
       "  </tbody>\n",
       "</table>\n",
       "</div>"
      ],
      "text/plain": [
       "       PassengerId    Survived      Pclass         Age       SibSp  \\\n",
       "count   891.000000  891.000000  891.000000  891.000000  891.000000   \n",
       "mean    446.000000    0.383838    2.308642   29.162929    0.523008   \n",
       "std     257.353842    0.486592    0.836071   13.046587    1.102743   \n",
       "min       1.000000    0.000000    1.000000    0.420000    0.000000   \n",
       "25%     223.500000    0.000000    2.000000   22.000000    0.000000   \n",
       "50%     446.000000    0.000000    3.000000   27.000000    0.000000   \n",
       "75%     668.500000    1.000000    3.000000   35.000000    1.000000   \n",
       "max     891.000000    1.000000    3.000000   80.000000    8.000000   \n",
       "\n",
       "            Parch        Fare  \n",
       "count  891.000000  891.000000  \n",
       "mean     0.381594   32.204208  \n",
       "std      0.806057   49.693429  \n",
       "min      0.000000    0.000000  \n",
       "25%      0.000000    7.910400  \n",
       "50%      0.000000   14.454200  \n",
       "75%      0.000000   31.000000  \n",
       "max      6.000000  512.329200  "
      ]
     },
     "execution_count": 64,
     "metadata": {},
     "output_type": "execute_result"
    }
   ],
   "source": [
    "# Finding outliers for Fare - using IQR!\n",
    "\n",
    "titanic_df.describe() #From here - we know that the IQR values for \"Fare\" is 7.910400 (25%) to 31.000000 (75%)\n"
   ]
  },
  {
   "cell_type": "code",
   "execution_count": 65,
   "metadata": {},
   "outputs": [
    {
     "name": "stdout",
     "output_type": "stream",
     "text": [
      "34.6344\n",
      "0\n",
      "65.6344\n",
      "1       71.2833\n",
      "27     263.0000\n",
      "31     146.5208\n",
      "34      82.1708\n",
      "52      76.7292\n",
      "61      80.0000\n",
      "62      83.4750\n",
      "72      73.5000\n",
      "88     263.0000\n",
      "102     77.2875\n",
      "118    247.5208\n",
      "120     73.5000\n",
      "124     77.2875\n",
      "139     79.2000\n",
      "151     66.6000\n",
      "159     69.5500\n",
      "180     69.5500\n",
      "195    146.5208\n",
      "201     69.5500\n",
      "215    113.2750\n",
      "218     76.2917\n",
      "224     90.0000\n",
      "230     83.4750\n",
      "245     90.0000\n",
      "256     79.2000\n",
      "257     86.5000\n",
      "258    512.3292\n",
      "262     79.6500\n",
      "268    153.4625\n",
      "269    135.6333\n",
      "         ...   \n",
      "659    113.2750\n",
      "660    133.6500\n",
      "665     73.5000\n",
      "679    512.3292\n",
      "681     76.7292\n",
      "689    211.3375\n",
      "698    110.8833\n",
      "700    227.5250\n",
      "708    151.5500\n",
      "716    227.5250\n",
      "730    211.3375\n",
      "737    512.3292\n",
      "741     78.8500\n",
      "742    262.3750\n",
      "745     71.0000\n",
      "759     86.5000\n",
      "763    120.0000\n",
      "765     77.9583\n",
      "779    211.3375\n",
      "789     79.2000\n",
      "792     69.5500\n",
      "802    120.0000\n",
      "820     93.5000\n",
      "829     80.0000\n",
      "835     83.1583\n",
      "846     69.5500\n",
      "849     89.1042\n",
      "856    164.8667\n",
      "863     69.5500\n",
      "879     83.1583\n",
      "Name: Fare, Length: 116, dtype: float64\n"
     ]
    }
   ],
   "source": [
    "fare_iqr = (31.000000 - 7.910400) * 1.5 # This will calculate the IQR\n",
    "outlier_min = max(7.910400 - fare_iqr, 0) # This will calculate the \"min\" value for not being an outlier. Anything below this value is an \"outlier\". If the value is below 0, we will take 0, because you can't have \"negative\" fare.\n",
    "outlier_max = 31.000000 + fare_iqr #This will calculate the \"max\" value for not being an outlier. Anything above this value is an outlier\n",
    "outliers = titanic_df[(titanic_df['Fare'] > outlier_max) | (titanic_df['Fare'] < outlier_min)]['Fare'] #This will list all the passengers with Fares that are outliers\n",
    "\n",
    "print fare_iqr\n",
    "print outlier_min\n",
    "print outlier_max\n",
    "print outliers\n"
   ]
  },
  {
   "cell_type": "code",
   "execution_count": 66,
   "metadata": {},
   "outputs": [
    {
     "name": "stdout",
     "output_type": "stream",
     "text": [
      "32.2042079686\n",
      "49.6934285972\n",
      "149.080285792\n",
      "0\n",
      "181.28449376\n",
      "27     263.0000\n",
      "88     263.0000\n",
      "118    247.5208\n",
      "258    512.3292\n",
      "299    247.5208\n",
      "311    262.3750\n",
      "341    263.0000\n",
      "377    211.5000\n",
      "380    227.5250\n",
      "438    263.0000\n",
      "527    221.7792\n",
      "557    227.5250\n",
      "679    512.3292\n",
      "689    211.3375\n",
      "700    227.5250\n",
      "716    227.5250\n",
      "730    211.3375\n",
      "737    512.3292\n",
      "742    262.3750\n",
      "779    211.3375\n",
      "Name: Fare, dtype: float64\n"
     ]
    }
   ],
   "source": [
    "# Here's how we can find outliers using the standard deviation!\n",
    "\n",
    "fare_mean = titanic_df['Fare'].mean() #calculate the mean\n",
    "fare_std = titanic_df['Fare'].std() #calculate the standard deviation\n",
    "fare_outlier_threshold = fare_std * 3 # calculate 3x the standard deviation\n",
    "fare_min_threshold = max(fare_mean - fare_outlier_threshold, 0) #this is the \"min\" threshold for not being an outlier. Anything below this value is an outlier. We \"zero\" it out, because we can't have \"negative\" fare.\n",
    "fare_max_threshold = fare_mean + fare_outlier_threshold #this is the \"max\"threshold for not being an outlier. Anything above this value is an outlier\n",
    "outliers = titanic_df[(titanic_df['Fare'] > fare_max_threshold) | (titanic_df['Fare'] < fare_min_threshold)]['Fare'] #This will list all the passengers with Fares that are outliers\n",
    "\n",
    "print fare_mean\n",
    "print fare_std\n",
    "print fare_outlier_threshold\n",
    "print fare_min_threshold\n",
    "print fare_max_threshold\n",
    "print outliers\n",
    "\n",
    "#interesting observation! This methodology produces FAR fewer outliers than 1.5x the IQR! It's because this methodlogy is more susceptible to\n",
    "#outliers skewing the analysis. The standard deviation here is large (larger than the mean even!) and so, the \"max\" threshold\n",
    "# for what is considered and outlier (mean + 3x the std) is much higher, and thus, far fewer fares are considered \"outliers\""
   ]
  },
  {
   "cell_type": "markdown",
   "metadata": {},
   "source": [
    "#### 4a. What is colinearity? "
   ]
  },
  {
   "cell_type": "markdown",
   "metadata": {
    "collapsed": true
   },
   "source": [
    "Answer: Collinearity is when there is a strong, linear relationship between two or more covariates/predictor variables. This can make it difficult to understand what the individual impact of a covariate is, and can lead us to \"overfit\" our data (i.e. add too many variables). It can also mean that our coefficients are not as accurate as they could be, or that we have error rates that are very high/erratic."
   ]
  },
  {
   "cell_type": "markdown",
   "metadata": {},
   "source": [
    "#### 4b. How will you test for colinearity? "
   ]
  },
  {
   "cell_type": "markdown",
   "metadata": {},
   "source": [
    "Answer: I can test for collinearity in a couple of different ways:\n",
    "\n",
    "1) Run a correlation matrix to see if there are any covariates/independent variables that strongly correlate with each other\n",
    "\n",
    "2) Test for \"partial correlation\" using Pearson's method"
   ]
  },
  {
   "cell_type": "code",
   "execution_count": 67,
   "metadata": {},
   "outputs": [
    {
     "data": {
      "text/html": [
       "<div>\n",
       "<style>\n",
       "    .dataframe thead tr:only-child th {\n",
       "        text-align: right;\n",
       "    }\n",
       "\n",
       "    .dataframe thead th {\n",
       "        text-align: left;\n",
       "    }\n",
       "\n",
       "    .dataframe tbody tr th {\n",
       "        vertical-align: top;\n",
       "    }\n",
       "</style>\n",
       "<table border=\"1\" class=\"dataframe\">\n",
       "  <thead>\n",
       "    <tr style=\"text-align: right;\">\n",
       "      <th></th>\n",
       "      <th>PassengerId</th>\n",
       "      <th>Survived</th>\n",
       "      <th>Pclass</th>\n",
       "      <th>Age</th>\n",
       "      <th>SibSp</th>\n",
       "      <th>Parch</th>\n",
       "      <th>Fare</th>\n",
       "    </tr>\n",
       "  </thead>\n",
       "  <tbody>\n",
       "    <tr>\n",
       "      <th>PassengerId</th>\n",
       "      <td>1.000000</td>\n",
       "      <td>-0.005007</td>\n",
       "      <td>-0.035144</td>\n",
       "      <td>0.034759</td>\n",
       "      <td>-0.057527</td>\n",
       "      <td>-0.001652</td>\n",
       "      <td>0.012658</td>\n",
       "    </tr>\n",
       "    <tr>\n",
       "      <th>Survived</th>\n",
       "      <td>-0.005007</td>\n",
       "      <td>1.000000</td>\n",
       "      <td>-0.338481</td>\n",
       "      <td>-0.061956</td>\n",
       "      <td>-0.035322</td>\n",
       "      <td>0.081629</td>\n",
       "      <td>0.257307</td>\n",
       "    </tr>\n",
       "    <tr>\n",
       "      <th>Pclass</th>\n",
       "      <td>-0.035144</td>\n",
       "      <td>-0.338481</td>\n",
       "      <td>1.000000</td>\n",
       "      <td>-0.344489</td>\n",
       "      <td>0.083081</td>\n",
       "      <td>0.018443</td>\n",
       "      <td>-0.549500</td>\n",
       "    </tr>\n",
       "    <tr>\n",
       "      <th>Age</th>\n",
       "      <td>0.034759</td>\n",
       "      <td>-0.061956</td>\n",
       "      <td>-0.344489</td>\n",
       "      <td>1.000000</td>\n",
       "      <td>-0.233396</td>\n",
       "      <td>-0.168329</td>\n",
       "      <td>0.099571</td>\n",
       "    </tr>\n",
       "    <tr>\n",
       "      <th>SibSp</th>\n",
       "      <td>-0.057527</td>\n",
       "      <td>-0.035322</td>\n",
       "      <td>0.083081</td>\n",
       "      <td>-0.233396</td>\n",
       "      <td>1.000000</td>\n",
       "      <td>0.414838</td>\n",
       "      <td>0.159651</td>\n",
       "    </tr>\n",
       "    <tr>\n",
       "      <th>Parch</th>\n",
       "      <td>-0.001652</td>\n",
       "      <td>0.081629</td>\n",
       "      <td>0.018443</td>\n",
       "      <td>-0.168329</td>\n",
       "      <td>0.414838</td>\n",
       "      <td>1.000000</td>\n",
       "      <td>0.216225</td>\n",
       "    </tr>\n",
       "    <tr>\n",
       "      <th>Fare</th>\n",
       "      <td>0.012658</td>\n",
       "      <td>0.257307</td>\n",
       "      <td>-0.549500</td>\n",
       "      <td>0.099571</td>\n",
       "      <td>0.159651</td>\n",
       "      <td>0.216225</td>\n",
       "      <td>1.000000</td>\n",
       "    </tr>\n",
       "  </tbody>\n",
       "</table>\n",
       "</div>"
      ],
      "text/plain": [
       "             PassengerId  Survived    Pclass       Age     SibSp     Parch  \\\n",
       "PassengerId     1.000000 -0.005007 -0.035144  0.034759 -0.057527 -0.001652   \n",
       "Survived       -0.005007  1.000000 -0.338481 -0.061956 -0.035322  0.081629   \n",
       "Pclass         -0.035144 -0.338481  1.000000 -0.344489  0.083081  0.018443   \n",
       "Age             0.034759 -0.061956 -0.344489  1.000000 -0.233396 -0.168329   \n",
       "SibSp          -0.057527 -0.035322  0.083081 -0.233396  1.000000  0.414838   \n",
       "Parch          -0.001652  0.081629  0.018443 -0.168329  0.414838  1.000000   \n",
       "Fare            0.012658  0.257307 -0.549500  0.099571  0.159651  0.216225   \n",
       "\n",
       "                 Fare  \n",
       "PassengerId  0.012658  \n",
       "Survived     0.257307  \n",
       "Pclass      -0.549500  \n",
       "Age          0.099571  \n",
       "SibSp        0.159651  \n",
       "Parch        0.216225  \n",
       "Fare         1.000000  "
      ]
     },
     "execution_count": 67,
     "metadata": {},
     "output_type": "execute_result"
    }
   ],
   "source": [
    "# Correlation matrix\n",
    "\n",
    "titanic_df.corr()\n",
    "\n",
    "# Based on this matrix, it doesn't look as though any 2 covariates have a very strong linear relationship with one another"
   ]
  },
  {
   "cell_type": "markdown",
   "metadata": {},
   "source": [
    "#### 5. What is your exploratory analysis plan?\n",
    "\n",
    "Using the above information, write an exploratory analysis plan that would allow you or a colleague to reproduce your analysis 1 year from now. "
   ]
  },
  {
   "cell_type": "markdown",
   "metadata": {},
   "source": [
    "Answer: Hello future colleague! Here is an analysis plan & the methodology I used so that you can repeat this analysis in the future and get the same results.\n",
    "\n",
    "1. Naviate to Kaggle's website & download the Titanic test & training set. Import both files into your Python program of choice (I've done this analysis in Jupyter - but you do you!)\n",
    "\n",
    "2. Import your preferred Python packages. I personally used numpy, pandas, seaborn, and matplotlib, but there are tons of great packages out there!\n",
    "\n",
    "3. Run a describe & some basic counts on your dataset, and replace any \"null/NAN\" covariates with either the mode or the median. I chose to replace any \"numeric\" values (e.g. fare, age) with the median, and \"string\" values (e.g. port of Embarkation) with the mode.\n",
    "\n",
    "4. Create histograms for each of your covariates, pivoted by passengers that survived & didn't survive. This will allow you (along with your \"describe\" above) to get a sense of how \"normally\" distributed your data is, as this will be the basis of your model's future assumptions.\n",
    "\n",
    "5. Test for outliers. I used 2 different methodologies - using 1.5 +/- the IQR, and going 3 standard deviations away from the mean. Calculate both to decide which is a \"better\" measurement for extreme values. A good indicator is how far apart your median & mean are - in the case where they are very far apart, this means that your standard deviation is more likely to be skewed, which can cause 3 standard deviations +/- the mean to give you too few or too many outlier values.\n",
    "\n",
    "6. Check your co-variates for collinearity. You'll want to ensure that none of your variables are strongly correlated with each other, as this can cause all sorts of problems when you try and run regressions, and determine which independent variables most strongly influence your \"outcome\". There's a few methods you can use for this - a simple correlation matrix is a great start. You can also run \"partial\" correlation tests to see if your variable correlation is due to a 3rd variable.\n",
    "\n",
    "7. Pick some different model methodologies, and test away! Ensure you document how you captured outliers, what you did with null values, and why you picked the co-variates you did. "
   ]
  },
  {
   "cell_type": "markdown",
   "metadata": {},
   "source": [
    "## Bonus Questions:"
   ]
  },
  {
   "cell_type": "markdown",
   "metadata": {
    "collapsed": true
   },
   "source": [
    "### 1. Articulate the assumptions and risks of your model / data set\n",
    "\n"
   ]
  },
  {
   "cell_type": "markdown",
   "metadata": {},
   "source": [
    "Answer: There are definitely some risks/assumptions that are critical to take into account with any model you build from this data set:\n",
    "\n",
    "1) For obvious reasons (it would be cruel to repeat, there aren't many massive ship wrecks throughout history, etc.), this isn't a very \"robust\" data set, and is only truly \"representative\" of this 1 event. While we can use this data set to predict what _might_ happen in a future ship wreck or disaster, it fails one of the core statistical principles, which is \"with respect to repeated testing\". While we can create models off of this data and do exploratory learnings, we have to be careful trying to extrapolate too much information from this data set, as there is relatively \"little\" data, and no concept of \"time series\" (i.e. how the influence of these covariates/independent variables might change over time). \n",
    "\n",
    "2) The data isn't normally distributed, especially when you break out the data by passengers who survived and didn't survive. This can make life more difficult, as everything from your mean to your standard deviation/how you calculate outliers can be skewed. In addition, given the relatively \"small\" data sample, a handful of outlier values can certainly have a significant influence on the data patterns we see.\n",
    "\n",
    "3) Our data assumes factors such as class/Socioeconomic status based on fare, passenger class, and port of Embarkation, but these are only proxies. While these variables might be highly indicative of class, we are still making assumptions based on what historians & common knoweldge tell us about this time period (e.g. in the early 1900s, [some town] was wealthier, and in general, higher fares is related to a better passenger class, and generally indicative of wealth).\n",
    "\n",
    "4) The data is over 100 years old, and there isn't really a concept of \"test\" and \"control\" groups. We could in theory look at other ship wrecks throughout history to gauge trends, but since no 2 disasters are the same, it is very difficult to isolate true impact. "
   ]
  }
 ],
 "metadata": {
  "kernelspec": {
   "display_name": "Python 2",
   "language": "python",
   "name": "python2"
  },
  "language_info": {
   "codemirror_mode": {
    "name": "ipython",
    "version": 2
   },
   "file_extension": ".py",
   "mimetype": "text/x-python",
   "name": "python",
   "nbconvert_exporter": "python",
   "pygments_lexer": "ipython2",
   "version": "2.7.13"
  }
 },
 "nbformat": 4,
 "nbformat_minor": 1
}
